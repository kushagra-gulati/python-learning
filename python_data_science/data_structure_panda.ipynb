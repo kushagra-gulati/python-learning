{
 "cells": [
  {
   "cell_type": "code",
   "execution_count": 23,
   "id": "d8fa1d49-45ba-4f7a-9073-fb3418fe53e4",
   "metadata": {},
   "outputs": [
    {
     "name": "stdout",
     "output_type": "stream",
     "text": [
      "pandas version : 2.1.2\n"
     ]
    }
   ],
   "source": [
    "import pandas as pd\n",
    "import numpy as np\n",
    "# print('numpy version :', np.__version__)\n",
    "print('pandas version :', pd.__version__)\n"
   ]
  },
  {
   "cell_type": "code",
   "execution_count": 28,
   "id": "eaa7e35a-f317-4661-94f4-98a8c1a6ac15",
   "metadata": {},
   "outputs": [
    {
     "name": "stdout",
     "output_type": "stream",
     "text": [
      "0    120\n",
      "1     48\n",
      "2    842\n",
      "dtype: int64\n",
      "0    X\n",
      "1    Y\n",
      "2    Z\n",
      "dtype: object\n"
     ]
    }
   ],
   "source": [
    "lab = ['X','Y','Z']\n",
    "new_label = [.1,.2,.3]\n",
    "data1 = [120,48,842]\n",
    "print(pd.Series(data=data1))\n",
    "print(pd.Series(data=lab))"
   ]
  },
  {
   "cell_type": "code",
   "execution_count": 29,
   "id": "f5826be5-504a-4d48-b29b-f7e7010bb944",
   "metadata": {},
   "outputs": [
    {
     "name": "stdout",
     "output_type": "stream",
     "text": [
      "0.1    120\n",
      "0.2     48\n",
      "0.3    842\n",
      "dtype: int32\n"
     ]
    }
   ],
   "source": [
    "#using numpy arrays\n",
    "my_array = np.array(data1)\n",
    "series = pd.Series(data=my_array,index=new_label)\n",
    "print(series)\n"
   ]
  },
  {
   "cell_type": "code",
   "execution_count": 33,
   "id": "5a102c00-5610-4dce-ae66-c24b2e1c5a90",
   "metadata": {},
   "outputs": [
    {
     "name": "stdout",
     "output_type": "stream",
     "text": [
      "name    kushagra\n",
      "age           85\n",
      "city      meerut\n",
      "dtype: object\n",
      "name    kushagra\n",
      "age           85\n",
      "city      meerut\n",
      "dtype: object\n"
     ]
    }
   ],
   "source": [
    "#using dictionaries\n",
    "dict1= {\"name\": \"kushagra\", \"age\": 85,\"city\": \"meerut\"}\n",
    "print(pd.Series(data=dict1))\n",
    "\n",
    "dict2= {\"name\": \"kushagra\", \"age\": \"85\",\"city\": \"meerut\"}\n",
    "print(pd.Series(data=dict2))"
   ]
  },
  {
   "cell_type": "code",
   "execution_count": 55,
   "id": "8259d8f9-a78b-473c-aef1-0612518b1d17",
   "metadata": {},
   "outputs": [
    {
     "name": "stdout",
     "output_type": "stream",
     "text": [
      "series1 will be:  ['kushagra' 85 'meerut']\n",
      "series1 will be:  85\n",
      "series1 will be:  delhi\n",
      "series1 will be:  mayank ['age']\n"
     ]
    }
   ],
   "source": [
    "#data fetching using pandas from series\n",
    "dict3= {\"name\": \"mukund\", \"age\": 56,\"city\": \"delhi\"}\n",
    "dict4= {\"name\": \"mayank\", \"age\": 26,\"city\": \"kalka\"}\n",
    "ser1 = pd.Series(data=dict1)\n",
    "ser2 = pd.Series(data=dict2)\n",
    "ser3 = pd.Series(dict3)\n",
    "ser4 = pd.Series(data=dict4)\n",
    "# ser5 =ser1 + ser2\n",
    "# print(ser5)\n",
    "print(\"series1 will be: \",ser1.values)\n",
    "print(\"series1 will be: \",ser2[\"age\"])\n",
    "print(\"series1 will be: \",ser3[\"city\"])\n",
    "print(\"series1 will be: \",ser4[\"name\"],[\"age\"])"
   ]
  },
  {
   "cell_type": "code",
   "execution_count": null,
   "id": "b52c9138-864a-4fcc-8ba7-803f35c93b53",
   "metadata": {},
   "outputs": [],
   "source": []
  }
 ],
 "metadata": {
  "kernelspec": {
   "display_name": "Python 3 (ipykernel)",
   "language": "python",
   "name": "python3"
  },
  "language_info": {
   "codemirror_mode": {
    "name": "ipython",
    "version": 3
   },
   "file_extension": ".py",
   "mimetype": "text/x-python",
   "name": "python",
   "nbconvert_exporter": "python",
   "pygments_lexer": "ipython3",
   "version": "3.11.6"
  }
 },
 "nbformat": 4,
 "nbformat_minor": 5
}
