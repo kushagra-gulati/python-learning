{
 "cells": [
  {
   "cell_type": "code",
   "execution_count": 1,
   "id": "4d8f53f7-eae8-4672-a81b-285fcac781b4",
   "metadata": {},
   "outputs": [
    {
     "name": "stdout",
     "output_type": "stream",
     "text": [
      "The value at index 0: -10\n",
      "The value at index -2:  106\n",
      "Our original array is:  [-10  -2   0   2  17 106 200]\n",
      "Selected slice of the array is:  [-10  -2   0]\n",
      "Value in array_1d upto index 2 :  [-10  -2]\n",
      "Value in array_1d from index 2 :  [  0   2  17 106 200]\n"
     ]
    }
   ],
   "source": [
    "import numpy as np\n",
    "\n",
    "array_1d = np.array([-10, -2, 0, 2, 17, 106,200])\n",
    "print('The value at index 0:', array_1d[0])\n",
    "#-ve index\n",
    "print('The value at index -2: ', array_1d[-2])\n",
    "\n",
    "print('Our original array is: ', array_1d)\n",
    "print('Selected slice of the array is: ', array_1d[0:3])\n",
    "\n",
    "print('Value in array_1d upto index 2 : ',array_1d[:2])\n",
    "print('Value in array_1d from index 2 : ',array_1d[2:])"
   ]
  },
  {
   "cell_type": "code",
   "execution_count": 4,
   "id": "4f9a3c3f-573a-4ceb-b432-d77b5f9c7ef7",
   "metadata": {},
   "outputs": [
    {
     "name": "stdout",
     "output_type": "stream",
     "text": [
      "[-84  23  93 383   2 323 -58]\n",
      "[ 12  23  93 383   2]\n"
     ]
    }
   ],
   "source": [
    "import numpy as np\n",
    "arr = np.array([-84,23,93,383,2,323,-58])\n",
    "print(arr)\n",
    "arr[0] = 12\n",
    "print(arr[0:5])"
   ]
  },
  {
   "cell_type": "code",
   "execution_count": 11,
   "id": "4f942fce-7a45-4421-9e5b-d1369d3a7bc6",
   "metadata": {},
   "outputs": [
    {
     "name": "stdout",
     "output_type": "stream",
     "text": [
      "[[ 0  1  2  3]\n",
      " [ 4  5  6  7]\n",
      " [ 8  9 10 11]\n",
      " [12 13 14 15]\n",
      " [16 17 18 19]\n",
      " [20 21 22 23]]\n"
     ]
    }
   ],
   "source": [
    "import numpy as np\n",
    "ar_2d = np.arange(24)\n",
    "# ar_sh2 = ar_2d.shape(6,4)\n",
    "ar_2d.shape = (6,4)\n",
    "print(ar_2d)"
   ]
  },
  {
   "cell_type": "code",
   "execution_count": 15,
   "id": "01687cec-aefd-4d71-84f8-eafbc96979e0",
   "metadata": {},
   "outputs": [
    {
     "name": "stdout",
     "output_type": "stream",
     "text": [
      "[16 17 18 19]\n",
      "[16 17 18 19]\n"
     ]
    },
    {
     "ename": "NameError",
     "evalue": "name 'arr_2d' is not defined",
     "output_type": "error",
     "traceback": [
      "\u001b[1;31m---------------------------------------------------------------------------\u001b[0m",
      "\u001b[1;31mNameError\u001b[0m                                 Traceback (most recent call last)",
      "Cell \u001b[1;32mIn[15], line 6\u001b[0m\n\u001b[0;32m      3\u001b[0m \u001b[38;5;28mprint\u001b[39m(ar_2d[\u001b[38;5;241m-\u001b[39m\u001b[38;5;241m2\u001b[39m])\n\u001b[0;32m      4\u001b[0m \u001b[38;5;66;03m# print(/\u001b[39;00m\n\u001b[1;32m----> 6\u001b[0m \u001b[38;5;28mprint\u001b[39m(\u001b[43marr_2d\u001b[49m[:\u001b[38;5;241m2\u001b[39m,:\u001b[38;5;241m2\u001b[39m])\n",
      "\u001b[1;31mNameError\u001b[0m: name 'arr_2d' is not defined"
     ]
    }
   ],
   "source": [
    "#or we can get a particular row means like this\n",
    "print(ar_2d[4])\n",
    "print(ar_2d[-2])\n",
    "# print(/\n",
    "\n",
    "print(arr_2d[:2,:2])"
   ]
  }
 ],
 "metadata": {
  "kernelspec": {
   "display_name": "Python 3 (ipykernel)",
   "language": "python",
   "name": "python3"
  },
  "language_info": {
   "codemirror_mode": {
    "name": "ipython",
    "version": 3
   },
   "file_extension": ".py",
   "mimetype": "text/x-python",
   "name": "python",
   "nbconvert_exporter": "python",
   "pygments_lexer": "ipython3",
   "version": "3.11.6"
  }
 },
 "nbformat": 4,
 "nbformat_minor": 5
}
