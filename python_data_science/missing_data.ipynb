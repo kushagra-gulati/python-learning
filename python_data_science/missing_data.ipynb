{
 "cells": [
  {
   "cell_type": "code",
   "execution_count": 12,
   "id": "86c30b0d-c332-42e1-95dc-2e6dd93f400c",
   "metadata": {},
   "outputs": [
    {
     "name": "stdout",
     "output_type": "stream",
     "text": [
      "      A   B    C       D\n",
      "0   1.0 NaN  223   203.0\n",
      "1   2.0 NaN   34     NaN\n",
      "2   NaN NaN   13     NaN\n",
      "3  45.0 NaN   44    23.0\n",
      "4   NaN NaN    2  5684.0\n"
     ]
    }
   ],
   "source": [
    "#missing data\n",
    "import numpy as np\n",
    "import pandas as pd\n",
    "\n",
    "dict1 = {\n",
    "    \"A\": [1, 2, np.nan, 45, np.nan],\n",
    "    \"B\": [np.nan, np.nan, np.nan, np.nan, np.nan],\n",
    "    \"C\": [223, 34, 13, 44, 2],\n",
    "    \"D\": [203, np.nan, np.nan, 23, 5684],\n",
    "}\n",
    "\n",
    "df = pd.DataFrame(dict1)\n",
    "print(df)\n",
    "\n"
   ]
  },
  {
   "cell_type": "code",
   "execution_count": 13,
   "id": "05a0bf9c-59f0-4141-9966-72a333a6b026",
   "metadata": {},
   "outputs": [
    {
     "name": "stdout",
     "output_type": "stream",
     "text": [
      "       A     B      C      D\n",
      "0  False  True  False  False\n",
      "1  False  True  False   True\n",
      "2   True  True  False   True\n",
      "3  False  True  False  False\n",
      "4   True  True  False  False\n",
      "       A      B     C      D\n",
      "0   True  False  True   True\n",
      "1   True  False  True  False\n",
      "2  False  False  True  False\n",
      "3   True  False  True   True\n",
      "4  False  False  True   True\n"
     ]
    }
   ],
   "source": [
    "print(df.isnull())\n",
    "print(df.notnull())"
   ]
  },
  {
   "cell_type": "code",
   "execution_count": 9,
   "id": "da3d4977-72cd-4ce3-9e48-565745a0cf67",
   "metadata": {},
   "outputs": [
    {
     "name": "stdout",
     "output_type": "stream",
     "text": [
      "0   NaN\n",
      "1   NaN\n",
      "2   NaN\n",
      "3   NaN\n",
      "4   NaN\n",
      "Name: B, dtype: float64\n",
      "A      48.0\n",
      "B       0.0\n",
      "C     316.0\n",
      "D    5910.0\n",
      "dtype: float64\n"
     ]
    }
   ],
   "source": [
    "#doing sum checking\n",
    "print(df['B'])\n",
    "print(df.sum())"
   ]
  },
  {
   "cell_type": "code",
   "execution_count": 19,
   "id": "3c8ffac9-4994-46d5-80b2-d5a24eac68ff",
   "metadata": {},
   "outputs": [
    {
     "name": "stdout",
     "output_type": "stream",
     "text": [
      "     C\n",
      "0  223\n",
      "1   34\n",
      "2   13\n",
      "3   44\n",
      "4    2\n",
      "Empty DataFrame\n",
      "Columns: [A, B, C, D]\n",
      "Index: []\n",
      "      A   B    C       D\n",
      "0   1.0 NaN  223   203.0\n",
      "1   2.0 NaN   34     NaN\n",
      "2   NaN NaN   13     NaN\n",
      "3  45.0 NaN   44    23.0\n",
      "4   NaN NaN    2  5684.0\n"
     ]
    }
   ],
   "source": [
    "#hresh ans axis\n",
    "print(df.dropna(axis=1))\n",
    "print(df.dropna(axis=0))\n",
    "print(df.dropna(thresh=1))"
   ]
  },
  {
   "cell_type": "code",
   "execution_count": 20,
   "id": "08ea78c3-7a16-4a20-b1a4-3da04b9c21b2",
   "metadata": {},
   "outputs": [
    {
     "name": "stdout",
     "output_type": "stream",
     "text": [
      "      A     B    C       D\n",
      "0   1.0  done  223   203.0\n",
      "1   2.0  done   34    done\n",
      "2  done  done   13    done\n",
      "3  45.0  done   44    23.0\n",
      "4  done  done    2  5684.0\n"
     ]
    }
   ],
   "source": [
    "print(df.fillna(value=\"done\"))"
   ]
  },
  {
   "cell_type": "code",
   "execution_count": null,
   "id": "df6bf4a3-2caa-4c6d-beaf-78fba0206ca7",
   "metadata": {},
   "outputs": [],
   "source": []
  }
 ],
 "metadata": {
  "kernelspec": {
   "display_name": "Python 3 (ipykernel)",
   "language": "python",
   "name": "python3"
  },
  "language_info": {
   "codemirror_mode": {
    "name": "ipython",
    "version": 3
   },
   "file_extension": ".py",
   "mimetype": "text/x-python",
   "name": "python",
   "nbconvert_exporter": "python",
   "pygments_lexer": "ipython3",
   "version": "3.11.6"
  }
 },
 "nbformat": 4,
 "nbformat_minor": 5
}
