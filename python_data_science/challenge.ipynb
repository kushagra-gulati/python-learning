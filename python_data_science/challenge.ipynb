{
 "cells": [
  {
   "cell_type": "code",
   "execution_count": 4,
   "id": "b7935646-777d-4d21-99a6-342d954bb378",
   "metadata": {},
   "outputs": [
    {
     "name": "stdout",
     "output_type": "stream",
     "text": [
      "[[100 101 102 103 104]\n",
      " [105 106 107 108 109]\n",
      " [110 111 112 113 114]\n",
      " [115 116 117 118 119]\n",
      " [120 121 122 123 124]]\n"
     ]
    }
   ],
   "source": [
    "#1st answer\n",
    "import numpy as np\n",
    "vector1 = np.arange(25)\n",
    "v_convert= vector1.reshape(5,5)\n",
    "print(v_convert + 100)\n"
   ]
  },
  {
   "cell_type": "code",
   "execution_count": null,
   "id": "0d532045-bbea-45b6-9c6e-d04fa49cf660",
   "metadata": {},
   "outputs": [],
   "source": []
  }
 ],
 "metadata": {
  "kernelspec": {
   "display_name": "Python 3 (ipykernel)",
   "language": "python",
   "name": "python3"
  },
  "language_info": {
   "codemirror_mode": {
    "name": "ipython",
    "version": 3
   },
   "file_extension": ".py",
   "mimetype": "text/x-python",
   "name": "python",
   "nbconvert_exporter": "python",
   "pygments_lexer": "ipython3",
   "version": "3.11.6"
  }
 },
 "nbformat": 4,
 "nbformat_minor": 5
}
