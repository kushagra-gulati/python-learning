{
 "cells": [
  {
   "cell_type": "code",
   "execution_count": 5,
   "id": "f22eb0ab-2559-433a-a12f-262a77f14e11",
   "metadata": {},
   "outputs": [
    {
     "name": "stdout",
     "output_type": "stream",
     "text": [
      "1st arr:- [0 1 2 3 4 5 6 7]\n",
      "2nd arr:- [0 1 2 3 4 5 6 7]\n",
      "sum of arrays will be:-  [ 0  2  4  6  8 10 12 14]\n",
      "sub of arrays will be:-  [0 0 0 0 0 0 0 0]\n",
      "div of arrays will be:-  [nan  1.  1.  1.  1.  1.  1.  1.]\n",
      "mul of arrays will be:-  [ 0  1  4  9 16 25 36 49]\n",
      "power of arrays will be:-  [ 0  1  4  9 16 25 36 49]\n"
     ]
    },
    {
     "name": "stderr",
     "output_type": "stream",
     "text": [
      "C:\\Users\\gulat\\AppData\\Local\\Temp\\ipykernel_3364\\1794536760.py:14: RuntimeWarning: invalid value encountered in divide\n",
      "  print(\"div of arrays will be:- \",(arr1/arr2))\n"
     ]
    }
   ],
   "source": [
    "#arthemetic operations\n",
    "import numpy as np\n",
    "arr1 = np.arange(0,8)\n",
    "arr2 = np.arange(0,8)\n",
    "\n",
    "print(\"1st arr:-\",arr1)\n",
    "print(\"2nd arr:-\",arr2)\n",
    "\n",
    "#addition\n",
    "print(\"sum of arrays will be:- \",(arr1+arr2))\n",
    "#subtraction\n",
    "print(\"sub of arrays will be:- \",(arr1-arr2))\n",
    "#division\n",
    "print(\"div of arrays will be:- \",(arr1/arr2))\n",
    "#multiplication\n",
    "print(\"mul of arrays will be:- \",(arr1*arr2))\n",
    "#powerr of elements\n",
    "print(\"power of arrays will be:- \",(arr1**2))\n"
   ]
  },
  {
   "cell_type": "code",
   "execution_count": 7,
   "id": "270ba41c-7592-442d-8dc7-8c828cfa1552",
   "metadata": {},
   "outputs": [
    {
     "name": "stdout",
     "output_type": "stream",
     "text": [
      "2nd arr:- [0 1 2 3 4]\n",
      "sum of arrays will be:-  [ 8  9 10 11 12]\n",
      "sub of arrays will be:-  [8 7 6 5 4]\n",
      "div of arrays will be:-  [0.    0.125 0.25  0.375 0.5  ]\n",
      "mul of arrays will be:-  [ 0  8 16 24 32]\n",
      "power of arrays will be:-  [   1    8   64  512 4096]\n"
     ]
    }
   ],
   "source": [
    "# arr1 = np.arange(0,5)\n",
    "arr2 = np.arange(0,5)\n",
    "\n",
    "# print(\"1st arr:-\",arr1)\n",
    "print(\"2nd arr:-\",arr2)\n",
    "\n",
    "#addition\n",
    "print(\"sum of arrays will be:- \",(8+arr2))\n",
    "#subtraction\n",
    "print(\"sub of arrays will be:- \",(8-arr2))\n",
    "#division\n",
    "print(\"div of arrays will be:- \",(arr2/8))\n",
    "#multiplication\n",
    "print(\"mul of arrays will be:- \",(8*arr2))\n",
    "#powerr of elements\n",
    "print(\"power of arrays will be:- \",(8**arr2))\n"
   ]
  },
  {
   "cell_type": "code",
   "execution_count": 14,
   "id": "a8a60b1d-cbe5-4518-9920-74c1dce437ee",
   "metadata": {},
   "outputs": [
    {
     "name": "stdout",
     "output_type": "stream",
     "text": [
      "2nd arr:- [0 1 2 3 4]\n",
      "sum of arrays will be:-  [ 8  9 10 11 12]\n",
      "sub of arrays will be:-  [8 7 6 5 4]\n",
      "div of arrays will be:-  [0.    0.125 0.25  0.375 0.5  ]\n",
      "mul of arrays will be:-  [ 0  8 16 24 32]\n",
      "power of arrays will be:-  [   1    8   64  512 4096]\n",
      "square_root of array will be:-  [0.         1.         1.41421356 1.73205081 2.        ]\n",
      "max-value of array will be:-  4\n",
      "min_value of array will be:-  0\n",
      "square_root of array will be:-  [ 1.          2.71828183  7.3890561  20.08553692 54.59815003]\n",
      "size of array will be:-  5\n",
      "square_root of array will be:-  [ 0.          0.84147098  0.90929743  0.14112001 -0.7568025 ]\n"
     ]
    }
   ],
   "source": [
    "# arr1 = np.arange(0,5)\n",
    "arr2 = np.arange(0,5)\n",
    "\n",
    "# print(\"1st arr:-\",arr1)\n",
    "print(\"2nd arr:-\",arr2)\n",
    "\n",
    "#addition\n",
    "print(\"sum of arrays will be:- \",(8+arr2))\n",
    "#subtraction\n",
    "print(\"sub of arrays will be:- \",(8-arr2))\n",
    "#division\n",
    "print(\"div of arrays will be:- \",(arr2/8))\n",
    "#multiplication\n",
    "print(\"mul of arrays will be:- \",(8*arr2))\n",
    "#powerr of elements\n",
    "print(\"power of arrays will be:- \",(8**arr2))\n",
    "#sqrt\n",
    "print(\"square_root of array will be:- \",np.sqrt(arr2))\n",
    "#max and min()\n",
    "print(\"max-value of array will be:- \",np.max(arr2))\n",
    "print(\"min_value of array will be:- \",np.min(arr2))\n",
    "#exponential of elements\n",
    "print(\"expo of array will be:- \",np.exp(arr2))\n",
    "#size\n",
    "print(\"size of array will be:- \",np.size(arr2))\n",
    "#sin,cos,tan etc\n",
    "print(\"trigonometry of array will be:- \",np.sin(arr2))\n",
    "#\n"
   ]
  }
 ],
 "metadata": {
  "kernelspec": {
   "display_name": "Python 3 (ipykernel)",
   "language": "python",
   "name": "python3"
  },
  "language_info": {
   "codemirror_mode": {
    "name": "ipython",
    "version": 3
   },
   "file_extension": ".py",
   "mimetype": "text/x-python",
   "name": "python",
   "nbconvert_exporter": "python",
   "pygments_lexer": "ipython3",
   "version": "3.11.6"
  }
 },
 "nbformat": 4,
 "nbformat_minor": 5
}
