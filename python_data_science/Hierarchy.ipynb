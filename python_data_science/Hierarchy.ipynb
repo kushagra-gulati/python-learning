{
 "cells": [
  {
   "cell_type": "code",
   "execution_count": 4,
   "id": "0fc37f21-452d-426f-af89-9a099e2c2926",
   "metadata": {},
   "outputs": [
    {
     "name": "stdout",
     "output_type": "stream",
     "text": [
      "name    kushagra\n",
      "age           85\n",
      "city      meerut\n",
      "dtype: object\n",
      "name    kushagra\n",
      "age           85\n",
      "city      meerut\n",
      "dtype: object\n"
     ]
    }
   ],
   "source": [
    "import numpy as np\n",
    "import pandas as pd\n",
    "dict1= {\"name\": \"kushagra\", \"age\": 85,\"city\": \"meerut\"}\n",
    "print(pd.Series(data=dict1))\n",
    "\n",
    "dict2= {\"name\": \"kushagra\", \"age\": \"85\",\"city\": \"meerut\"}\n",
    "print(pd.Series(data=dict2))"
   ]
  },
  {
   "cell_type": "code",
   "execution_count": 36,
   "id": "31eb511e-9a24-4cd7-890d-2f6d982eafdf",
   "metadata": {},
   "outputs": [
    {
     "name": "stdout",
     "output_type": "stream",
     "text": [
      "None\n"
     ]
    }
   ],
   "source": [
    "#hierarchical indexing starts\n",
    "se=np.random.seed(42)\n",
    "print(se)"
   ]
  },
  {
   "cell_type": "code",
   "execution_count": 43,
   "id": "0ed86a21-0625-4fa7-929f-6442f1adfb21",
   "metadata": {},
   "outputs": [
    {
     "name": "stdout",
     "output_type": "stream",
     "text": [
      "     AB  ON  BC\n",
      "a 1   0   1   2\n",
      "  2   3   4   5\n",
      "b 1   6   7   8\n",
      "  2   9  10  11\n"
     ]
    }
   ],
   "source": [
    "df = pd.DataFrame(np.arange(12).reshape((4,3)),index=[['a','a','b','b'],[1,2,1,2]],columns=['AB','ON','BC'])\n",
    "print(df)"
   ]
  },
  {
   "cell_type": "code",
   "execution_count": 49,
   "id": "a409f340-53fc-4c43-9506-08a32fe86dfc",
   "metadata": {},
   "outputs": [
    {
     "name": "stdout",
     "output_type": "stream",
     "text": [
      "11\n",
      "1\n"
     ]
    }
   ],
   "source": [
    "print(df.loc['b'].loc[2]['BC'])\n",
    "print(df.loc['a'].loc[1]['ON'])"
   ]
  },
  {
   "cell_type": "code",
   "execution_count": 53,
   "id": "381d7f15-afda-4d5b-8f1e-7f62b4b1ddd3",
   "metadata": {},
   "outputs": [
    {
     "name": "stdout",
     "output_type": "stream",
     "text": [
      "[None, None]\n"
     ]
    }
   ],
   "source": [
    "print(df.index.names)"
   ]
  },
  {
   "cell_type": "code",
   "execution_count": 54,
   "id": "ee498cad-ebfb-44df-9d97-3c229bde4c47",
   "metadata": {},
   "outputs": [
    {
     "name": "stdout",
     "output_type": "stream",
     "text": [
      "       AB  ON  BC\n",
      "l1 l2            \n",
      "a  1    0   1   2\n",
      "   2    3   4   5\n",
      "b  1    6   7   8\n",
      "   2    9  10  11\n"
     ]
    }
   ],
   "source": [
    "df.index.names = ['l1','l2']\n",
    "print(df)"
   ]
  },
  {
   "cell_type": "code",
   "execution_count": 62,
   "id": "d890179a-1136-4f04-b307-b9aac06ebd69",
   "metadata": {},
   "outputs": [
    {
     "name": "stdout",
     "output_type": "stream",
     "text": [
      "    AB  ON  BC\n",
      "l2            \n",
      "1    0   1   2\n",
      "2    3   4   5\n",
      "    AB  ON  BC\n",
      "l2            \n",
      "1    0   1   2\n",
      "2    3   4   5\n"
     ]
    }
   ],
   "source": [
    "#xs method\n",
    "print(df.xs('a'))\n",
    "print(df.loc['a'])"
   ]
  }
 ],
 "metadata": {
  "kernelspec": {
   "display_name": "Python 3 (ipykernel)",
   "language": "python",
   "name": "python3"
  },
  "language_info": {
   "codemirror_mode": {
    "name": "ipython",
    "version": 3
   },
   "file_extension": ".py",
   "mimetype": "text/x-python",
   "name": "python",
   "nbconvert_exporter": "python",
   "pygments_lexer": "ipython3",
   "version": "3.11.6"
  }
 },
 "nbformat": 4,
 "nbformat_minor": 5
}
