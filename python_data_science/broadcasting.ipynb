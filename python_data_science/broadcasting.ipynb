{
 "cells": [
  {
   "cell_type": "code",
   "execution_count": 8,
   "id": "9608ba89-5973-4a99-9282-38eeb0760400",
   "metadata": {},
   "outputs": [
    {
     "name": "stdout",
     "output_type": "stream",
     "text": [
      "[1 2 3]\n",
      "(3, 1)\n",
      "[[2 3 4]\n",
      " [3 4 5]\n",
      " [4 5 6]]\n"
     ]
    }
   ],
   "source": [
    "import numpy as np\n",
    "\n",
    "var1 = np.array([1,2,3])\n",
    "print(var1)\n",
    "\n",
    "var2 = np.array([[1],[2],[3]])\n",
    "print(var2.shape)\n",
    "\n",
    "print(var1 + var2)"
   ]
  },
  {
   "cell_type": "code",
   "execution_count": 11,
   "id": "e1fd8fb1-36a5-4b66-91f3-81e76229390f",
   "metadata": {},
   "outputs": [
    {
     "name": "stdout",
     "output_type": "stream",
     "text": [
      "(2, 1)\n",
      "[[2 3 4]\n",
      " [3 4 5]]\n"
     ]
    }
   ],
   "source": [
    "x = np.array([[1],[2]])\n",
    "print(x.shape)\n",
    "y =np.array([[1,2,3],[1,2,3]])\n",
    "print(x+y)"
   ]
  },
  {
   "cell_type": "code",
   "execution_count": 18,
   "id": "f9d3501c-f7ef-45e5-a327-8b4b3f6d5f32",
   "metadata": {},
   "outputs": [
    {
     "name": "stdout",
     "output_type": "stream",
     "text": [
      "[0 1 2 3 4 5 6 7 8 9]\n",
      "[500 500 500 500 500   5   6   7   8   9]\n"
     ]
    }
   ],
   "source": [
    "\n",
    "arr = np.arange(0,10)\n",
    "print(arr)\n",
    "arr[0:5] = 500\n",
    "print(arr)"
   ]
  },
  {
   "cell_type": "code",
   "execution_count": 29,
   "id": "f04a9069-c2bc-4116-9374-aa25a66642f3",
   "metadata": {},
   "outputs": [
    {
     "name": "stdout",
     "output_type": "stream",
     "text": [
      "[[1. 1. 1. 1.]\n",
      " [1. 1. 1. 1.]\n",
      " [1. 1. 1. 1.]\n",
      " [1. 1. 1. 1.]]\n",
      "[[300. 300. 300. 300.]\n",
      " [  1.   1.   1.   1.]\n",
      " [  1.   1.   1.   1.]\n",
      " [  1.   1.   1.   1.]]\n"
     ]
    }
   ],
   "source": [
    "#on 2d array\n",
    "array2 = np.ones((4,4))\n",
    "print(array2)\n",
    "array2[-4]= 300# or [0] acc to indexing from positive to negative or reverse\n",
    "print(array2)"
   ]
  },
  {
   "cell_type": "code",
   "execution_count": 31,
   "id": "ff671c33-986b-4ebd-ba6a-b4b5cd388518",
   "metadata": {},
   "outputs": [
    {
     "name": "stdout",
     "output_type": "stream",
     "text": [
      "[[300. 301. 302. 303.]\n",
      " [  1.   2.   3.   4.]\n",
      " [  1.   2.   3.   4.]\n",
      " [  1.   2.   3.   4.]]\n"
     ]
    }
   ],
   "source": [
    "print(array2 + np.arange(0,4))"
   ]
  }
 ],
 "metadata": {
  "kernelspec": {
   "display_name": "Python 3 (ipykernel)",
   "language": "python",
   "name": "python3"
  },
  "language_info": {
   "codemirror_mode": {
    "name": "ipython",
    "version": 3
   },
   "file_extension": ".py",
   "mimetype": "text/x-python",
   "name": "python",
   "nbconvert_exporter": "python",
   "pygments_lexer": "ipython3",
   "version": "3.11.6"
  }
 },
 "nbformat": 4,
 "nbformat_minor": 5
}
