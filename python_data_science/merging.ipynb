{
 "cells": [
  {
   "cell_type": "code",
   "execution_count": 9,
   "id": "a57a443e-9580-4590-adea-2788a5a6ab4b",
   "metadata": {},
   "outputs": [
    {
     "name": "stdout",
     "output_type": "stream",
     "text": [
      "Dataframe 1\n",
      "   key  A1  B1\n",
      "0   a   0   5\n",
      "1   b   1   6\n",
      "2   c   2   7\n",
      "3   d   3   8\n",
      "4   e   4   9\n",
      "Dataframe 2\n",
      "   key  A2  B2\n",
      "0   a   0   3\n",
      "1   b   1   4\n",
      "2   c   2   5\n"
     ]
    }
   ],
   "source": [
    "import numpy as np\n",
    "import pandas as pd\n",
    "df1 = pd.DataFrame({'key':['a','b','c','d','e'],'A1': range(5), 'B1':range(5,10)})\n",
    "df2 = pd.DataFrame({'key': ['a', 'b', 'c'], 'A2': range(3), 'B2':range(3,6)})\n",
    "print(\"Dataframe 1\\n\", df1)\n",
    "print(\"Dataframe 2\\n\", df2)\n",
    "\n",
    "\n"
   ]
  },
  {
   "cell_type": "code",
   "execution_count": null,
   "id": "45656b90-0178-4921-b56b-1178d8016e1b",
   "metadata": {},
   "outputs": [],
   "source": [
    "MERGING"
   ]
  },
  {
   "cell_type": "code",
   "execution_count": 10,
   "id": "1f07447b-7271-4bb6-ba28-4db1af2ac02b",
   "metadata": {},
   "outputs": [
    {
     "name": "stdout",
     "output_type": "stream",
     "text": [
      "  key  A1  B1  A2  B2\n",
      "0   a   0   5   0   3\n",
      "1   b   1   6   1   4\n",
      "2   c   2   7   2   5\n",
      "  key  A1  B1   A2   B2\n",
      "0   a   0   5  0.0  3.0\n",
      "1   b   1   6  1.0  4.0\n",
      "2   c   2   7  2.0  5.0\n",
      "3   d   3   8  NaN  NaN\n",
      "4   e   4   9  NaN  NaN\n",
      "  key  A1  B1   A2   B2\n",
      "0   a   0   5  0.0  3.0\n",
      "1   b   1   6  1.0  4.0\n",
      "2   c   2   7  2.0  5.0\n",
      "3   d   3   8  NaN  NaN\n",
      "4   e   4   9  NaN  NaN\n",
      "  key  A1  B1  A2  B2\n",
      "0   a   0   5   0   3\n",
      "1   b   1   6   1   4\n",
      "2   c   2   7   2   5\n"
     ]
    }
   ],
   "source": [
    "#practice merging\n",
    "print(pd.merge(df1,df2,how = 'inner',on='key'))\n",
    "print(pd.merge(df1,df2,how = 'outer',on='key'))\n",
    "print(pd.merge(df1,df2,how = 'left',on='key'))\n",
    "print(pd.merge(df1,df2,how = 'right',on='key'))"
   ]
  },
  {
   "cell_type": "code",
   "execution_count": 12,
   "id": "14742191-aa53-42e4-b75b-518d88d545dd",
   "metadata": {},
   "outputs": [
    {
     "name": "stdout",
     "output_type": "stream",
     "text": [
      "    A   B   C    D\n",
      "0  A0  B0  C0   D0\n",
      "1  A1  B1  C1   D1\n",
      "2  A2  B2  C2   D2\n",
      "3  A3  B3  C3   D3\n",
      "4  A4  B4  C4   D4\n",
      "5  A5  B5  C5   D5\n",
      "6  A6  B6  C6   D6\n",
      "7  A7  B7  C7  NaN\n"
     ]
    }
   ],
   "source": [
    "df1 = pd.DataFrame({'A': ['A0', 'A1', 'A2', 'A3'],\n",
    "                        'B': ['B0', 'B1', 'B2', 'B3'],\n",
    "                        'C': ['C0', 'C1', 'C2', 'C3'],\n",
    "                        'D': ['D0', 'D1', 'D2', 'D3']},\n",
    "                        index=[0, 1, 2, 3])\n",
    "df2 = pd.DataFrame({'A': ['A4', 'A5', 'A6', 'A7'],\n",
    "                        'B': ['B4', 'B5', 'B6', 'B7'],\n",
    "                        'C': ['C4', 'C5', 'C6', 'C7'],\n",
    "                        'D': ['D4', 'D5', 'D6', np.nan]},\n",
    "                         index=[4,5,6,7])\n",
    "\n",
    "print(pd.concat([df1,df2]))"
   ]
  },
  {
   "cell_type": "code",
   "execution_count": 15,
   "id": "fc599904-3edd-41aa-b451-f47d868203b4",
   "metadata": {},
   "outputs": [
    {
     "name": "stdout",
     "output_type": "stream",
     "text": [
      "     A   B    C    D\n",
      "K0  A0  B0   C0   D0\n",
      "K1  A1  B1  NaN  NaN\n",
      "K2  A2  B2   C2   D2\n",
      "     C   D    A    B\n",
      "K0  C0  D0   A0   B0\n",
      "K2  C2  D2   A2   B2\n",
      "K3  C3  D3  NaN  NaN\n"
     ]
    }
   ],
   "source": [
    "# joining\n",
    "b1 = pd.DataFrame({'A': ['A0', 'A1', 'A2'],\n",
    "                     'B': ['B0', 'B1', 'B2']},\n",
    "                      index=['K0', 'K1', 'K2']) \n",
    "\n",
    "b2 = pd.DataFrame({'C': ['C0', 'C2', 'C3'],\n",
    "                    'D': ['D0', 'D2', 'D3']},\n",
    "                      index=['K0', 'K2', 'K3'])\n",
    "\n",
    "print(b1.join(b2))\n",
    "print(b2.join(b1))\n"
   ]
  },
  {
   "cell_type": "code",
   "execution_count": null,
   "id": "e680e858-0370-45b4-a501-fd7db4823b8f",
   "metadata": {},
   "outputs": [],
   "source": []
  },
  {
   "cell_type": "code",
   "execution_count": null,
   "id": "0e2367f2-ebc0-4b49-aa1f-4054bcb33a51",
   "metadata": {},
   "outputs": [],
   "source": []
  }
 ],
 "metadata": {
  "kernelspec": {
   "display_name": "Python 3 (ipykernel)",
   "language": "python",
   "name": "python3"
  },
  "language_info": {
   "codemirror_mode": {
    "name": "ipython",
    "version": 3
   },
   "file_extension": ".py",
   "mimetype": "text/x-python",
   "name": "python",
   "nbconvert_exporter": "python",
   "pygments_lexer": "ipython3",
   "version": "3.11.6"
  }
 },
 "nbformat": 4,
 "nbformat_minor": 5
}
