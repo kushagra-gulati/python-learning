{
 "cells": [
  {
   "cell_type": "code",
   "execution_count": 15,
   "id": "745f2e5a-bbd0-4e89-94e3-7afbd01d2ff1",
   "metadata": {},
   "outputs": [
    {
     "name": "stdout",
     "output_type": "stream",
     "text": [
      "[1 2 3 4 5 6]\n",
      "<class 'numpy.ndarray'>\n",
      "1\n"
     ]
    }
   ],
   "source": [
    "import numpy as np\n",
    "a= [1,2,3,4,5,6]\n",
    "y = np.array(a)\n",
    "print(y)\n",
    "print(type(y))\n",
    "print(y.ndim)"
   ]
  },
  {
   "cell_type": "code",
   "execution_count": 11,
   "id": "176cbbaf-9ae5-4bde-a5ef-49157868d121",
   "metadata": {},
   "outputs": [
    {
     "name": "stdin",
     "output_type": "stream",
     "text": [
      "enter number:  3\n",
      "enter number:  5\n",
      "enter number:  5\n",
      "enter number:  6\n"
     ]
    },
    {
     "name": "stdout",
     "output_type": "stream",
     "text": [
      "[3 5 5 6]\n"
     ]
    }
   ],
   "source": [
    "l = []\n",
    "for i in range(1,5):\n",
    "    int_1 = int(input(\"enter number: \"))\n",
    "    l.append(int_1)\n",
    "\n",
    "print(np.array(l))\n",
    "    "
   ]
  },
  {
   "cell_type": "code",
   "execution_count": 16,
   "id": "145fefb2-1331-4ae9-8fa8-be680d320804",
   "metadata": {},
   "outputs": [
    {
     "name": "stdout",
     "output_type": "stream",
     "text": [
      "[[1 2 3]\n",
      " [4 5 6]\n",
      " [7 8 9]]\n",
      "2\n"
     ]
    }
   ],
   "source": [
    "import numpy as np\n",
    "l = [[1,2,3],[4,5,6],[7,8,9]]\n",
    "# print(l)\n",
    "matrix_new = np.array(l)\n",
    "print(matrix_new)\n",
    "print(matrix_new.ndim)"
   ]
  },
  {
   "cell_type": "code",
   "execution_count": 17,
   "id": "bede8b30-d70f-4c97-95bb-15019b252994",
   "metadata": {},
   "outputs": [
    {
     "name": "stdout",
     "output_type": "stream",
     "text": [
      "3\n"
     ]
    }
   ],
   "source": [
    "import numpy as np\n",
    "list2 = np.array([[[1,2,3],[1,5,7],[6,4,9]]])\n",
    "print(list2.ndim)"
   ]
  },
  {
   "cell_type": "code",
   "execution_count": 54,
   "id": "6f0a413e-924b-463a-a4f5-d74d8918a029",
   "metadata": {},
   "outputs": [
    {
     "name": "stdout",
     "output_type": "stream",
     "text": [
      "[ 1  3  5  7  9 11 13 15 17 19]\n"
     ]
    }
   ],
   "source": [
    "#arrange\n",
    "import numpy as np\n",
    "print(np.arange(1,20,2))\n",
    "#end"
   ]
  },
  {
   "cell_type": "code",
   "execution_count": 26,
   "id": "fc57994b-bcb3-4dc9-b42c-bf8b1ab8f079",
   "metadata": {},
   "outputs": [
    {
     "name": "stdout",
     "output_type": "stream",
     "text": [
      "[ 1.  4.  7. 10. 13. 16. 19.]\n",
      "[1 2 3 4 5]\n"
     ]
    }
   ],
   "source": [
    "#arange with dtype\n",
    "import numpy as np\n",
    "print(np.arange(1,20,3, dtype=float))\n",
    "print(ll)"
   ]
  },
  {
   "cell_type": "code",
   "execution_count": 31,
   "id": "3c7617b9-ef55-4c08-b64c-cead3e314021",
   "metadata": {},
   "outputs": [
    {
     "name": "stdout",
     "output_type": "stream",
     "text": [
      "[0. 0. 0.]\n",
      "[[0. 0. 0. 0. 0. 0.]\n",
      " [0. 0. 0. 0. 0. 0.]\n",
      " [0. 0. 0. 0. 0. 0.]\n",
      " [0. 0. 0. 0. 0. 0.]]\n"
     ]
    }
   ],
   "source": [
    "#zeroes method\n",
    "import numpy as np\n",
    "print(np.zeros(3))\n",
    "print(np.zeros((4,6)) )"
   ]
  },
  {
   "cell_type": "code",
   "execution_count": 56,
   "id": "3b66e9de-e598-493f-bf3e-5f6203839291",
   "metadata": {},
   "outputs": [
    {
     "name": "stdout",
     "output_type": "stream",
     "text": [
      "[[1. 0. 0. 0. 0. 0. 0. 0.]\n",
      " [0. 1. 0. 0. 0. 0. 0. 0.]\n",
      " [0. 0. 1. 0. 0. 0. 0. 0.]\n",
      " [0. 0. 0. 1. 0. 0. 0. 0.]\n",
      " [0. 0. 0. 0. 1. 0. 0. 0.]\n",
      " [0. 0. 0. 0. 0. 1. 0. 0.]\n",
      " [0. 0. 0. 0. 0. 0. 1. 0.]\n",
      " [0. 0. 0. 0. 0. 0. 0. 1.]]\n"
     ]
    }
   ],
   "source": [
    "#eye method\n",
    "print(np.eye(8))"
   ]
  },
  {
   "cell_type": "code",
   "execution_count": 60,
   "id": "4e3420b0-d310-4f86-a890-db6742b1ad7f",
   "metadata": {},
   "outputs": [
    {
     "name": "stdout",
     "output_type": "stream",
     "text": [
      "[0.40998447 0.12243974 0.07366473 0.86942891]\n"
     ]
    }
   ],
   "source": [
    "#rand method\n",
    "import numpy as np\n",
    "print(np.random.rand(4))"
   ]
  },
  {
   "cell_type": "code",
   "execution_count": 64,
   "id": "5b15e84e-6dfa-42b4-9fbc-f3e4378ec2fc",
   "metadata": {},
   "outputs": [
    {
     "name": "stdout",
     "output_type": "stream",
     "text": [
      "54\n",
      "[98 19 84 40 10 41 65 43 44 96 15  5 31 18 84 13 72 11 89 62 39 32 79 38\n",
      " 26 81 58 49 62]\n"
     ]
    }
   ],
   "source": [
    "#randint()\n",
    "import numpy as np\n",
    "print(np.random.randint(1,100))\n",
    "print(np.random.randint(1,100,29))"
   ]
  },
  {
   "cell_type": "code",
   "execution_count": 80,
   "id": "db41aa57-962f-476e-af19-2a00f6f4ef1d",
   "metadata": {},
   "outputs": [
    {
     "name": "stdout",
     "output_type": "stream",
     "text": [
      "[[1. 0. 0. 0. 0. 0.]\n",
      " [0. 1. 0. 0. 0. 0.]\n",
      " [0. 0. 1. 0. 0. 0.]\n",
      " [0. 0. 0. 1. 0. 0.]\n",
      " [0. 0. 0. 0. 1. 0.]\n",
      " [0. 0. 0. 0. 0. 1.]]\n",
      "[ 0  1  2  3  4  5  6  7  8  9 10 11 12 13 14 15]\n",
      "[16 94 15 25  0 49 33 38 30 30]\n"
     ]
    }
   ],
   "source": [
    "#using arnge and randint()\n",
    "import numpy as np\n",
    "ar_ar = np.arange(16)\n",
    "ar_rint = np.random.randint(0,100,10)\n",
    "zer = np.eye(6)\n",
    "print(zer)\n",
    "print(ar_ar)\n",
    "print(ar_rint)"
   ]
  },
  {
   "cell_type": "code",
   "execution_count": 81,
   "id": "5b453d37-ab19-4e81-a392-b82a4e01aeef",
   "metadata": {},
   "outputs": [
    {
     "name": "stdout",
     "output_type": "stream",
     "text": [
      "[[ 0  1  2  3]\n",
      " [ 4  5  6  7]\n",
      " [ 8  9 10 11]\n",
      " [12 13 14 15]]\n"
     ]
    }
   ],
   "source": [
    "#reshape\n",
    "print(ar_ar.reshape(4,4))"
   ]
  },
  {
   "cell_type": "code",
   "execution_count": 83,
   "id": "fdae6551-32ea-4323-8c40-a834128d2a61",
   "metadata": {},
   "outputs": [
    {
     "name": "stdout",
     "output_type": "stream",
     "text": [
      "0\n",
      "15\n"
     ]
    }
   ],
   "source": [
    "#min and max()\n",
    "import numpy as np\n",
    "print(ar_ar.min())\n",
    "print(ar_ar.max())"
   ]
  },
  {
   "cell_type": "code",
   "execution_count": 86,
   "id": "1257c58b-6b51-44b1-a2d7-b7ed486b58c8",
   "metadata": {},
   "outputs": [
    {
     "name": "stdout",
     "output_type": "stream",
     "text": [
      "0\n",
      "15\n",
      "0\n"
     ]
    }
   ],
   "source": [
    "#argmax and argmin()\n",
    "import numpy as np\n",
    "arg = np.arange(16)\n",
    "arg_1 = np.random.randint(0,100,10)\n",
    "\n",
    "print(arg.min())\n",
    "print(arg.argmax())\n",
    "print(arg.argmin())\n"
   ]
  },
  {
   "cell_type": "code",
   "execution_count": 88,
   "id": "3cd9af9b-55aa-4f06-9ee2-4b600efbe20d",
   "metadata": {},
   "outputs": [
    {
     "name": "stdout",
     "output_type": "stream",
     "text": [
      "(16,)\n",
      "int32\n",
      "16\n"
     ]
    }
   ],
   "source": [
    "#size,shape and type of array\n",
    "print(arg.shape)\n",
    "print(arg.dtype)\n",
    "print(arg.size)"
   ]
  }
 ],
 "metadata": {
  "kernelspec": {
   "display_name": "Python 3 (ipykernel)",
   "language": "python",
   "name": "python3"
  },
  "language_info": {
   "codemirror_mode": {
    "name": "ipython",
    "version": 3
   },
   "file_extension": ".py",
   "mimetype": "text/x-python",
   "name": "python",
   "nbconvert_exporter": "python",
   "pygments_lexer": "ipython3",
   "version": "3.11.6"
  }
 },
 "nbformat": 4,
 "nbformat_minor": 5
}
