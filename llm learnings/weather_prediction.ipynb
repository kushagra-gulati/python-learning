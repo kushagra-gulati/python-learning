{
  "nbformat": 4,
  "nbformat_minor": 0,
  "metadata": {
    "colab": {
      "provenance": []
    },
    "kernelspec": {
      "name": "python3",
      "display_name": "Python 3"
    },
    "language_info": {
      "name": "python"
    }
  },
  "cells": [
    {
      "cell_type": "code",
      "execution_count": null,
      "metadata": {
        "id": "FhSlJECYjCYc"
      },
      "outputs": [],
      "source": [
        "import requests\n",
        "import math\n",
        "import json\n",
        "import sys\n",
        "\n",
        "def get_weather(city):\n",
        "    api_key = \"038fa40aabc3b6156f768a92fa4dc596\"\n",
        "    url = f\"https://api.openweathermap.org/data/2.5/weather?q={city}&appid={api_key}\"\n",
        "    try:\n",
        "        response = requests.get(url)\n",
        "        response.raise_for_status()  # Raise an exception for any HTTP errors\n",
        "    except requests.exceptions.HTTPError as err:\n",
        "        print(f\"Error: {err}\")\n",
        "        return\n",
        "\n",
        "    try:\n",
        "        data = json.loads(response.text)\n",
        "        if data['cod'] != 200:\n",
        "            print(f\"Error: {data['message']}\")\n",
        "            return\n",
        "    except json.JSONDecodeError as err:\n",
        "        print(f\"Error: Failed to parse response JSON - {err}\")\n",
        "        return\n",
        "\n",
        "    # Extract relevant weather information\n",
        "    weather_description = data['weather'][0]['description']\n",
        "    temperature = data['main']['temp']\n",
        "    humidity = data['main']['humidity']\n",
        "    pressure = data['main']['pressure']\n",
        "\n",
        "    # Convert temperature from Kelvin to Celsius\n",
        "    temperature = round(temperature - 273.15, 2)\n",
        "\n",
        "    # Print the weather forecast\n",
        "    print(f\"Weather in {city}: {weather_description}\")\n",
        "    print(f\"Temperature: {temperature}°C\")\n",
        "    print(f\"Humidity: {humidity}\")\n",
        "    print(f\"Pressure: {pressure}\")\n",
        "\n",
        "if __name__ == \"__main__\":\n",
        "    if len(sys.argv) != 2:\n",
        "        print(\"Usage: python filename.py <city>\")\n",
        "        sys.exit(1)\n",
        "    city_name = sys.argv[1]\n",
        "    get_weather(city_name)\n"
      ]
    }
  ]
}